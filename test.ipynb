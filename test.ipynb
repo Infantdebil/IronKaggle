{
 "cells": [
  {
   "cell_type": "code",
   "execution_count": null,
   "metadata": {},
   "outputs": [],
   "source": [
    "# Importar librerías necesarias\n",
    "import pandas as pd\n",
    "import matplotlib.pyplot as plt\n",
    "import seaborn as sns\n",
    "\n",
    "# Cargar los datos desde el archivo CSV\n",
    "file_path = 'sales.csv'  # Cambia esta ruta al archivo donde guardaste el CSV\n",
    "sales_data = pd.read_csv(file_path)\n",
    "\n",
    "\n",
    "# Vista rápida de las primeras filas\n",
    "print(\"Primeras filas del dataset:\")\n",
    "print(sales_data.head())\n",
    "\n",
    "# Eliminar columnas innecesarias\n",
    "sales_data_cleaned = sales_data.drop(columns=['Unnamed: 0'])\n",
    "\n",
    "# Verificar valores faltantes\n",
    "missing_values = sales_data_cleaned.isnull().sum()\n",
    "print(\"\\nValores faltantes por columna:\")\n",
    "print(missing_values)\n",
    "\n",
    "# Vista rápida del resumen estadístico\n",
    "print(\"\\nResumen estadístico:\")\n",
    "print(sales_data_cleaned.describe())\n"
   ]
  },
  {
   "cell_type": "code",
   "execution_count": null,
   "metadata": {},
   "outputs": [],
   "source": []
  }
 ],
 "metadata": {
  "kernelspec": {
   "display_name": "base",
   "language": "python",
   "name": "python3"
  },
  "language_info": {
   "codemirror_mode": {
    "name": "ipython",
    "version": 3
   },
   "file_extension": ".py",
   "mimetype": "text/x-python",
   "name": "python",
   "nbconvert_exporter": "python",
   "pygments_lexer": "ipython3",
   "version": "3.12.4"
  }
 },
 "nbformat": 4,
 "nbformat_minor": 2
}
